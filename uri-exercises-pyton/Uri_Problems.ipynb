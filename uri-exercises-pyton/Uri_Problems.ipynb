{
  "nbformat": 4,
  "nbformat_minor": 0,
  "metadata": {
    "colab": {
      "name": "Uri-Problems.ipynb",
      "provenance": [],
      "collapsed_sections": [],
      "authorship_tag": "ABX9TyPrs+UE9Ifb4O7vStrAXNRS",
      "include_colab_link": true
    },
    "kernelspec": {
      "name": "python3",
      "display_name": "Python 3"
    }
  },
  "cells": [
    {
      "cell_type": "markdown",
      "metadata": {
        "id": "view-in-github",
        "colab_type": "text"
      },
      "source": [
        "<a href=\"https://colab.research.google.com/github/Punxoxo/uri-exercisesPY/blob/main/Uri_Problems.ipynb\" target=\"_parent\"><img src=\"https://colab.research.google.com/assets/colab-badge.svg\" alt=\"Open In Colab\"/></a>"
      ]
    },
    {
      "cell_type": "markdown",
      "metadata": {
        "id": "W8qp7Jh4GPJX"
      },
      "source": [
        "Problem #1000\n"
      ]
    },
    {
      "cell_type": "code",
      "metadata": {
        "id": "JCDSJaH7GWgp"
      },
      "source": [
        "print(\"Hello World!\")"
      ],
      "execution_count": null,
      "outputs": []
    },
    {
      "cell_type": "markdown",
      "metadata": {
        "id": "EvYwtPUdGxIQ"
      },
      "source": [
        "Problem #1001\n"
      ]
    },
    {
      "cell_type": "code",
      "metadata": {
        "id": "JwgMn0CNG0HK"
      },
      "source": [
        "A = int(input())\n",
        "B = int(input())\n",
        "print(\"X =\",A+B)"
      ],
      "execution_count": null,
      "outputs": []
    },
    {
      "cell_type": "markdown",
      "metadata": {
        "id": "hFRg5NpAHaM2"
      },
      "source": [
        "Problem #1002\n"
      ]
    },
    {
      "cell_type": "code",
      "metadata": {
        "id": "wiTLPUDLHbwR"
      },
      "source": [
        "n = 3.14159\n",
        "R = float(input())\n",
        "print('A={:.4f}'.format(n*(R*R)))"
      ],
      "execution_count": null,
      "outputs": []
    },
    {
      "cell_type": "markdown",
      "metadata": {
        "id": "41HsFLsEIguq"
      },
      "source": [
        "Problem #1003\n"
      ]
    },
    {
      "cell_type": "code",
      "metadata": {
        "id": "AHD8MHolIi3n"
      },
      "source": [
        "A = int(input())\n",
        "B = int(input())\n",
        "print(\"SOMA =\",A+B)"
      ],
      "execution_count": null,
      "outputs": []
    },
    {
      "cell_type": "markdown",
      "metadata": {
        "id": "Z3NSMmt4I2SI"
      },
      "source": [
        "Problem #1004"
      ]
    },
    {
      "cell_type": "code",
      "metadata": {
        "id": "apkEC25NI-uY"
      },
      "source": [
        "a = int(input())\n",
        "b = int(input())\n",
        "print(\"PROD =\",a*b)"
      ],
      "execution_count": null,
      "outputs": []
    },
    {
      "cell_type": "markdown",
      "metadata": {
        "id": "9O6pWqnnJSeF"
      },
      "source": [
        "Problem #1005"
      ]
    },
    {
      "cell_type": "code",
      "metadata": {
        "id": "CHn8EbVkJWD7"
      },
      "source": [
        "A = float(input())\n",
        "B = float(input())\n",
        "print(\"MEDIA = {:.5f}\".format(((A*3.5)+(B*7.5))/(3.5+7.5)))"
      ],
      "execution_count": null,
      "outputs": []
    },
    {
      "cell_type": "markdown",
      "metadata": {
        "id": "KzzOx-EgK4wm"
      },
      "source": [
        "Problem #1006\n"
      ]
    },
    {
      "cell_type": "code",
      "metadata": {
        "id": "8GLHgWDOK6UV"
      },
      "source": [
        "A = float(input())\n",
        "B = float(input())\n",
        "C = float(input())\n",
        "print(\"MEDIA = {:.1f}\".format(((A*2) + (B*3) + (C*5))/(2+3+5)))"
      ],
      "execution_count": null,
      "outputs": []
    },
    {
      "cell_type": "markdown",
      "metadata": {
        "id": "pUeT1cgJLbNH"
      },
      "source": [
        "Problem #1007"
      ]
    },
    {
      "cell_type": "code",
      "metadata": {
        "id": "r32I6RybLfZe"
      },
      "source": [
        "A = int(input())\n",
        "B = int(input())\n",
        "C = int(input())\n",
        "D = int(input())\n",
        "print(\"DIFERENCA =\",(A*B)-(C*D))"
      ],
      "execution_count": null,
      "outputs": []
    },
    {
      "cell_type": "markdown",
      "metadata": {
        "id": "uI6lT5dvL4eb"
      },
      "source": [
        "Problem #1008"
      ]
    },
    {
      "cell_type": "code",
      "metadata": {
        "id": "N_BMRa8-L5yd"
      },
      "source": [
        "num = int(input())\n",
        "work = int(input())\n",
        "amoun = float(input())\n",
        "print(\"NUMBER =\",num)\n",
        "print(\"SALARY = U$ {:.2f}\".format(work*amoun))"
      ],
      "execution_count": null,
      "outputs": []
    },
    {
      "cell_type": "markdown",
      "metadata": {
        "id": "KWQ9fH0-NsGN"
      },
      "source": [
        "Problem #1009"
      ]
    },
    {
      "cell_type": "code",
      "metadata": {
        "id": "t6_ptVC5NuNR"
      },
      "source": [
        "name = input()\n",
        "sal = float(input())\n",
        "sold = float(input())\n",
        "print(\"TOTAL = R$ {:.2f}\".format(sal + ((sold*15)/100)))"
      ],
      "execution_count": null,
      "outputs": []
    },
    {
      "cell_type": "markdown",
      "metadata": {
        "id": "YbW4P44zOy0t"
      },
      "source": [
        "Problem #1010"
      ]
    },
    {
      "cell_type": "code",
      "metadata": {
        "id": "gzg3ErjtO0W1"
      },
      "source": [
        "total = []\n",
        "for i in range(2):\n",
        "  code, unit, price = [float(n) for n in input().split()]\n",
        "  total.append(code)\n",
        "  total.append(unit)\n",
        "  total.append(price)\n",
        "print(\"VALOR A PAGAR: R$ {:.2f}\".format(total[1]*total[2]+total[4]*total[5]))"
      ],
      "execution_count": null,
      "outputs": []
    },
    {
      "cell_type": "markdown",
      "metadata": {
        "id": "P6aFM1hQT82P"
      },
      "source": [
        "Problem #1011"
      ]
    },
    {
      "cell_type": "code",
      "metadata": {
        "id": "ksDNn14jT-8a"
      },
      "source": [
        "R = float(input())\n",
        "pi = 3.14159\n",
        "print(\"VOLUME = {:.3f}\".format((4/3.0)*pi*(R*R*R)))"
      ],
      "execution_count": null,
      "outputs": []
    },
    {
      "cell_type": "markdown",
      "metadata": {
        "id": "V238DObXUfX9"
      },
      "source": [
        "Problem #1012"
      ]
    },
    {
      "cell_type": "code",
      "metadata": {
        "id": "EImchXVpUhFS"
      },
      "source": [
        "A,B,C = [float(x) for x in input().split()]\n",
        "pi = 3.14159\n",
        "print(\"TRIANGULO: {:.3f}\".format((A*C)/2))\n",
        "print(\"CIRCULO: {:.3f}\".format(pi*(C*C)))\n",
        "print(\"TRAPEZIO: {:.3f}\".format(((A+B)*C)/2))\n",
        "print(\"QUADRADO: {:.3f}\".format(B*B))\n",
        "print(\"RETANGULO: {:.3f}\".format(A*B))"
      ],
      "execution_count": null,
      "outputs": []
    },
    {
      "cell_type": "markdown",
      "metadata": {
        "id": "CqVDQkeRWSAG"
      },
      "source": [
        "Problem #1013"
      ]
    },
    {
      "cell_type": "code",
      "metadata": {
        "id": "4vD2zAMiWToF"
      },
      "source": [
        "a,b,c = [int(x) for x in input().split()]\n",
        "maior = ((a+b+abs(a-b)))/2\n",
        "print(\"{:.0f} eh o maior\".format(((maior+c+abs(maior-c)))/2))"
      ],
      "execution_count": null,
      "outputs": []
    },
    {
      "cell_type": "markdown",
      "metadata": {
        "id": "-wIwZ4ZtX52d"
      },
      "source": [
        "Problem #1014"
      ]
    },
    {
      "cell_type": "code",
      "metadata": {
        "id": "ohVqY3ebX8QQ"
      },
      "source": [
        "X = int(input())\n",
        "Y = float(input())\n",
        "print(\"{:.3f} km/l\".format(X/Y))"
      ],
      "execution_count": null,
      "outputs": []
    },
    {
      "cell_type": "markdown",
      "metadata": {
        "id": "AQiEQtmHjwX1"
      },
      "source": [
        "Problem #1015"
      ]
    },
    {
      "cell_type": "code",
      "metadata": {
        "id": "iyGLsUiRjyCz"
      },
      "source": [
        "import math\n",
        "x1,y1 = [float(n) for n in input().split()]\n",
        "x2,y2 = [float(k) for k in input().split()]\n",
        "dis = pow(x2-x1,2)+pow(y2-y1,2)\n",
        "print(\"{:.4f}\".format(math.sqrt(dis)))"
      ],
      "execution_count": null,
      "outputs": []
    },
    {
      "cell_type": "markdown",
      "metadata": {
        "id": "C7qVdvbOoxa-"
      },
      "source": [
        "Problem #1016"
      ]
    },
    {
      "cell_type": "code",
      "metadata": {
        "id": "PuDgUt4to1k8"
      },
      "source": [
        "x = int(input())\n",
        "print(x*2,\"minutos\")"
      ],
      "execution_count": null,
      "outputs": []
    },
    {
      "cell_type": "markdown",
      "metadata": {
        "id": "PiRlHW0berV9"
      },
      "source": [
        "Problem #1017"
      ]
    },
    {
      "cell_type": "code",
      "metadata": {
        "id": "ZMIku_5Ses_C"
      },
      "source": [
        "time = int(input())\n",
        "speed = int(input())\n",
        "print(\"{:.3f}\".format(time*speed/12))"
      ],
      "execution_count": null,
      "outputs": []
    },
    {
      "cell_type": "markdown",
      "metadata": {
        "id": "kJ-UTZm8hA6z"
      },
      "source": [
        "Problem #1018"
      ]
    },
    {
      "cell_type": "code",
      "metadata": {
        "id": "6dL3ofGVTfOS"
      },
      "source": [
        "N = int(input())\r\n",
        "bn = [100,50,20,10,5,2,1]\r\n",
        "print(N)\r\n",
        "for i in bn:\r\n",
        "  if N>=i:\r\n",
        "    x = N//i\r\n",
        "    y = N-(x*i)\r\n",
        "    N = y\r\n",
        "    print(\"{} nota(s) de R$ {},00\".format(x,i))\r\n",
        "  else:print(\"0 nota(s) de R$ {},00\".format(i))"
      ],
      "execution_count": null,
      "outputs": []
    },
    {
      "cell_type": "markdown",
      "metadata": {
        "id": "Ebhx1Cjn2KAs"
      },
      "source": [
        "Problem #1019"
      ]
    },
    {
      "cell_type": "code",
      "metadata": {
        "id": "mJ90Y9jh2MYp"
      },
      "source": [
        "n = int(input())\r\n",
        "time = [3600,60,1]\r\n",
        "res = [0,0,0]\r\n",
        "for i in range(3):\r\n",
        "  if n>=time[i]:\r\n",
        "    x = n//time[i]\r\n",
        "    n = n-(x*time[i])\r\n",
        "    res[i] = x\r\n",
        "print(\"{}:{}:{}\".format(res[0],res[1],res[2]))\r\n"
      ],
      "execution_count": null,
      "outputs": []
    },
    {
      "cell_type": "markdown",
      "metadata": {
        "id": "fdwbAXRNCT-g"
      },
      "source": [
        "Problem #1020"
      ]
    },
    {
      "cell_type": "code",
      "metadata": {
        "id": "neCpBdi8CVbm"
      },
      "source": [
        "d = int(input())\r\n",
        "res = [0,0,0]\r\n",
        "time = [365,30,1]\r\n",
        "for i in range(3):\r\n",
        "  if d>=time[i]:\r\n",
        "    x=d//time[i]\r\n",
        "    d-=x*time[i]\r\n",
        "    res[i] = x\r\n",
        "print(\"{} ano(s)\".format(res[0]))\r\n",
        "print(\"{} mes(es)\".format(res[1]))\r\n",
        "print(\"{} dia(s)\".format(res[2]))"
      ],
      "execution_count": null,
      "outputs": []
    },
    {
      "cell_type": "markdown",
      "metadata": {
        "id": "oEzbaXF_JXqc"
      },
      "source": [
        "Problem #1021"
      ]
    },
    {
      "cell_type": "code",
      "metadata": {
        "id": "aFzXiVcGJZK9"
      },
      "source": [
        "notes = [100,50,20,10,5,2]\r\n",
        "coins = [1,.5,.25,.1,.05,.01]\r\n",
        "n = float(input())\r\n",
        "n += 0.001\r\n",
        "print(\"NOTAS:\")\r\n",
        "for i in notes:\r\n",
        "  x = n//i\r\n",
        "  n %= i\r\n",
        "  print(\"{} nota(s) de R$ {}.00\".format(int(x),i))\r\n",
        "print(\"MOEDAS:\")\r\n",
        "for i in coins:\r\n",
        "  x = n//i\r\n",
        "  n %= i\r\n",
        "  print(\"{} moeda(s) de R$ {:.2f}\".format(int(x),i))"
      ],
      "execution_count": null,
      "outputs": []
    },
    {
      "cell_type": "markdown",
      "metadata": {
        "id": "HIdyLUuO7P-5"
      },
      "source": [
        "Problem #1035"
      ]
    },
    {
      "cell_type": "code",
      "metadata": {
        "id": "ONJavWst7b4W"
      },
      "source": [
        "A,B,C,D = [int(x) for x in input().split()]\r\n",
        "if B > C and D > A and (C+D) > (A+B) and C > 0 and D > 0 and A%2 == 0:print('Valores aceitos')\r\n",
        "else:print('Valores nao aceitos')"
      ],
      "execution_count": null,
      "outputs": []
    },
    {
      "cell_type": "markdown",
      "metadata": {
        "id": "pxfrSBpm87MD"
      },
      "source": [
        "Problem #1036"
      ]
    },
    {
      "cell_type": "code",
      "metadata": {
        "id": "NVPTaIHS89en"
      },
      "source": [
        "import math\r\n",
        "A,B,C = [float(i) for i in input().split()]\r\n",
        "delta = pow(B,2)-(4*A*C)\r\n",
        "if delta < 0 or math.sqrt(delta) == B:print('Impossivel calcular')\r\n",
        "else:\r\n",
        "  bhaskara1 = (-B+math.sqrt(delta))/(2*A)\r\n",
        "  bhaskara2 = (-B-math.sqrt(delta))/(2*A)\r\n",
        "  print('R1 = {:.5f}'.format(bhaskara1))\r\n",
        "  print('R2 = {:.5f}'.format(bhaskara2))"
      ],
      "execution_count": null,
      "outputs": []
    },
    {
      "cell_type": "markdown",
      "metadata": {
        "id": "Va3rVK-4ATYP"
      },
      "source": [
        "Problem #1037"
      ]
    },
    {
      "cell_type": "code",
      "metadata": {
        "id": "1FaKVGc-AZs9"
      },
      "source": [
        "x = float(input())\r\n",
        "intervalo = [-1,25,50,75,100]\r\n",
        "resp = ['Intervalo [0,25]','Intervalo (25,50]','Intervalo (50,75]','Intervalo (75,100]']\r\n",
        "if x < 0 or x > 100:print('Fora de intervalo')\r\n",
        "else:\r\n",
        "  for i in range(4):\r\n",
        "    if x > intervalo[i] and x <= intervalo[i+1]:print(resp[i])"
      ],
      "execution_count": null,
      "outputs": []
    },
    {
      "cell_type": "markdown",
      "metadata": {
        "id": "Hy1MB4FVMlv-"
      },
      "source": [
        "Problem #1038"
      ]
    },
    {
      "cell_type": "code",
      "metadata": {
        "id": "FX0PiCPdMnkT"
      },
      "source": [
        "x,y = [int(i) for i in input().split()]\r\n",
        "cd = [1,2,3,4,5]\r\n",
        "pc = [4,4.5,5,2,1.5]\r\n",
        "for i in range(5):\r\n",
        "  if x == cd[i]:res = y*pc[i]\r\n",
        "print('Total: R$ {:.2f}'.format(res))"
      ],
      "execution_count": null,
      "outputs": []
    },
    {
      "cell_type": "markdown",
      "metadata": {
        "id": "7ji4PdFuP7sH"
      },
      "source": [
        "Problem #1040"
      ]
    },
    {
      "cell_type": "code",
      "metadata": {
        "id": "hc99qmkTP9mD"
      },
      "source": [
        "n1,n2,n3,n4 = [float(i) for i in input().split()]\r\n",
        "med = ((n1*2)+(n2*3)+(n3*4)+(n4*1))/10\r\n",
        "print('Media: {:.1f}'.format(med))\r\n",
        "if med >= 7:print('Aluno aprovado.')\r\n",
        "if med < 5:print('Aluno reprovado.')\r\n",
        "if med >=5 and med <= 6.9:\r\n",
        "  print('Aluno em exame.')\r\n",
        "  n1 = float(input())\r\n",
        "  med1 = (med+n1)/2\r\n",
        "  print('Nota do exame: {:.1f}'.format(n1))\r\n",
        "  if med1 >= 5:print('Aluno aprovado.')\r\n",
        "  if med1 < 5:print('Aluno reprovado.')\r\n",
        "  print('Media final: {:.1f}'.format(med1))"
      ],
      "execution_count": null,
      "outputs": []
    },
    {
      "cell_type": "markdown",
      "metadata": {
        "id": "PiYPUZPSLGf5"
      },
      "source": [
        "Problem #1041"
      ]
    },
    {
      "cell_type": "code",
      "metadata": {
        "id": "uQ3J7v0YLIHK"
      },
      "source": [
        "x,y = [float(i) for i in input().split()]\r\n",
        "if x == 0 and y == 0:print('Origem')\r\n",
        "if x > 0 and y > 0:print('Q1')\r\n",
        "if x < 0 and y > 0:print('Q2')\r\n",
        "if x < 0 and y < 0:print('Q3')\r\n",
        "if x > 0 and y < 0:print('Q4')\r\n",
        "if x == 0 and y != 0:print('Eixo Y')\r\n",
        "if x != 0 and y == 0:print('Eixo X')"
      ],
      "execution_count": null,
      "outputs": []
    },
    {
      "cell_type": "markdown",
      "metadata": {
        "id": "AYq7bGPSYVly"
      },
      "source": [
        "Problem #1042"
      ]
    },
    {
      "cell_type": "code",
      "metadata": {
        "id": "KUaLPLQBYXtK"
      },
      "source": [
        "x=[int(i) for i in input().split()]\r\n",
        "y=[]\r\n",
        "for i in x:y.append(i)\r\n",
        "y.sort()\r\n",
        "for i in y:print(i)\r\n",
        "print()\r\n",
        "for i in x:print(i)"
      ],
      "execution_count": null,
      "outputs": []
    },
    {
      "cell_type": "markdown",
      "metadata": {
        "id": "9u2FB0x12Rct"
      },
      "source": [
        "Problem #1043"
      ]
    },
    {
      "cell_type": "code",
      "metadata": {
        "id": "kqs_kF1V2VnE"
      },
      "source": [
        "a,b,c=[float(i) for i in input().split()]\r\n",
        "if a+b>c and a+c>b and c+b>a:print('Perimetro = {:.1f}'.format(a+b+c))\r\n",
        "else:print('Area = {:.1f}'.format(((a+b)*c)/2))"
      ],
      "execution_count": null,
      "outputs": []
    },
    {
      "cell_type": "markdown",
      "metadata": {
        "id": "HSAmbRDz5t7m"
      },
      "source": [
        "Problem #1044"
      ]
    },
    {
      "cell_type": "code",
      "metadata": {
        "id": "seTOaCJ85yUl"
      },
      "source": [
        "a,b=[int(i) for i in input().split()]\r\n",
        "if a%b==0 or b%a==0:print('Sao Multiplos')\r\n",
        "else:print('Nao sao Multiplos')"
      ],
      "execution_count": null,
      "outputs": []
    },
    {
      "cell_type": "markdown",
      "metadata": {
        "id": "vd1PBZ6g6Qwx"
      },
      "source": [
        "Problem #1045"
      ]
    },
    {
      "cell_type": "code",
      "metadata": {
        "id": "x8QXc1Fk6TQD"
      },
      "source": [
        "sides=sorted([float(i) for i in input().split()])\r\n",
        "a=sides[2];b=sides[1];c=sides[0]\r\n",
        "if a>=b+c:print('NAO FORMA TRIANGULO')\r\n",
        "else:\r\n",
        "  if pow(a,2)==pow(b,2)+pow(c,2):print('TRIANGULO RETANGULO')\r\n",
        "  if pow(a,2)>pow(b,2)+pow(c,2):print('TRIANGULO OBTUSANGULO')\r\n",
        "  if pow(a,2)<pow(b,2)+pow(c,2):print('TRIANGULO ACUTANGULO')\r\n",
        "  if a==b==c:print('TRIANGULO EQUILATERO')\r\n",
        "  if a==b!=c or a==c!=b or b==c!=a:print('TRIANGULO ISOSCELES')"
      ],
      "execution_count": null,
      "outputs": []
    },
    {
      "cell_type": "markdown",
      "metadata": {
        "id": "oYDx6Khbd2EE"
      },
      "source": [
        "Problem #1046"
      ]
    },
    {
      "cell_type": "code",
      "metadata": {
        "id": "fkmCHSDed3c_"
      },
      "source": [
        "s,e=[int(i) for i in input().split()]\r\n",
        "if s<e:print('O JOGO DUROU {} HORA(S)'.format(e-s))\r\n",
        "if s>e:print('O JOGO DUROU {} HORA(S)'.format(24-(s-e)))\r\n",
        "if s==e:print('O JOGO DUROU 24 HORA(S)')"
      ],
      "execution_count": null,
      "outputs": []
    }
  ]
}